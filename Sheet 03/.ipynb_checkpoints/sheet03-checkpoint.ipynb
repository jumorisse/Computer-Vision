{
 "cells": [
  {
   "cell_type": "markdown",
   "id": "40a71f6a",
   "metadata": {
    "deletable": false,
    "editable": false,
    "nbgrader": {
     "cell_type": "markdown",
     "checksum": "01f409360ba0603616e037bffd21bf12",
     "grade": false,
     "grade_id": "h01",
     "locked": true,
     "schema_version": 3,
     "solution": false
    },
    "solution": "hidden"
   },
   "source": [
    "Osnabrück University - Computer Vision (Winter Term 2021/22) - Prof. Dr.-Ing. G. Heidemann, Ulf Krumnack, Axel Schaffland"
   ]
  },
  {
   "cell_type": "markdown",
   "id": "3d5fbdf2",
   "metadata": {
    "deletable": false,
    "editable": false,
    "nbgrader": {
     "cell_type": "markdown",
     "checksum": "b1196401b994013b2a6c66646e809657",
     "grade": false,
     "grade_id": "h02",
     "locked": true,
     "schema_version": 3,
     "solution": false
    }
   },
   "source": [
    "# Exercise Sheet 03: Morphological Operations¶"
   ]
  },
  {
   "cell_type": "markdown",
   "id": "05e5773c",
   "metadata": {
    "deletable": false,
    "editable": false,
    "nbgrader": {
     "cell_type": "markdown",
     "checksum": "aed4fd102ae26e8ef37704fcfb5f614c",
     "grade": false,
     "grade_id": "h03",
     "locked": true,
     "schema_version": 3,
     "solution": false
    }
   },
   "source": [
    "## Introduction\n",
    "\n",
    "This week's sheet should be solved and handed in before the end of **Tuesday, November 23, 2021**. If you need help (and Google and other resources were not enough), feel free to contact your groups' designated tutor or whomever of us you run into first. Please upload your results to your group's Stud.IP folder."
   ]
  },
  {
   "cell_type": "markdown",
   "id": "7b5ec07f",
   "metadata": {
    "deletable": false,
    "editable": false,
    "nbgrader": {
     "cell_type": "markdown",
     "checksum": "131763ef23b4d6fd8bcb626468c6c634",
     "grade": false,
     "grade_id": "math-complex",
     "locked": true,
     "schema_version": 3,
     "solution": false
    }
   },
   "source": [
    "## Assignment 0: Math recap (complex numbers) [0 Points]\n",
    "\n",
    "This exercise is supposed to be very easy, does not give any points, and is voluntary. There will be a similar exercise on every sheet. It is intended to revise some basic mathematical notions that are assumed throughout this class and to allow you to check if you are comfortable with them. Usually you should have no problem to answer these questions offhand, but if you feel unsure, this is a good time to look them up again. You are always welcome to discuss questions with the tutors or in the practice session. Also, if you have a (math) topic you would like to recap, please let us know."
   ]
  },
  {
   "cell_type": "markdown",
   "id": "5b4a4fba",
   "metadata": {
    "deletable": false,
    "editable": false,
    "nbgrader": {
     "cell_type": "markdown",
     "checksum": "e2b54d29e72e6ae1c80ce2ca76794c23",
     "grade": false,
     "grade_id": "math-complex-q1",
     "locked": true,
     "schema_version": 3,
     "solution": false
    }
   },
   "source": [
    "**a)** What is a *complex number*, what is the *complex plane*, how are complex numbers usually denoted?"
   ]
  },
  {
   "cell_type": "markdown",
   "id": "0926593e",
   "metadata": {
    "deletable": false,
    "nbgrader": {
     "cell_type": "markdown",
     "checksum": "ec05f3e7aa3c1e9c5a038201ee5ec951",
     "grade": true,
     "grade_id": "math-complex-a1",
     "locked": false,
     "points": 0,
     "schema_version": 3,
     "solution": true
    },
    "solution": "shown"
   },
   "source": [
    "YOUR ANSWER HERE"
   ]
  },
  {
   "cell_type": "markdown",
   "id": "b930efe3",
   "metadata": {
    "deletable": false,
    "editable": false,
    "nbgrader": {
     "cell_type": "markdown",
     "checksum": "ccfe5449d902c925509009359358a4c4",
     "grade": false,
     "grade_id": "math-complex-q2",
     "locked": true,
     "schema_version": 3,
     "solution": false
    }
   },
   "source": [
    "**b)** What is the *real* and the *imaginary* part of a complex number? What is the *absolute value* of a complex number? What is the *complex conjugate*?"
   ]
  },
  {
   "cell_type": "markdown",
   "id": "1e6d9b8b",
   "metadata": {
    "deletable": false,
    "nbgrader": {
     "cell_type": "markdown",
     "checksum": "3472240c0d0e5b839d417858856dc9f6",
     "grade": true,
     "grade_id": "math-complex-a2",
     "locked": false,
     "points": 0,
     "schema_version": 3,
     "solution": true
    },
    "solution": "shown"
   },
   "source": [
    "YOUR ANSWER HERE"
   ]
  },
  {
   "cell_type": "markdown",
   "id": "69e8f1a5",
   "metadata": {
    "deletable": false,
    "editable": false,
    "nbgrader": {
     "cell_type": "markdown",
     "checksum": "af79ffaa0b22f0cc6e7489a45b5feb9e",
     "grade": false,
     "grade_id": "math-complex-q3",
     "locked": true,
     "schema_version": 3,
     "solution": false
    }
   },
   "source": [
    "**c)** What are polar coordinates? What are their advantages? Can you convert between cartesian and polar coordinates? Can you write down $i=\\sqrt{-1}$ in polar coordinates? What about $\\sqrt{i}$?"
   ]
  },
  {
   "cell_type": "markdown",
   "id": "52f71d15",
   "metadata": {
    "deletable": false,
    "nbgrader": {
     "cell_type": "markdown",
     "checksum": "0226c6277f0ff47ebdd6e41d516300ac",
     "grade": true,
     "grade_id": "math-complex-a3",
     "locked": false,
     "points": 0,
     "schema_version": 3,
     "solution": true
    },
    "solution": "shown"
   },
   "source": [
    "YOUR ANSWER HERE"
   ]
  },
  {
   "cell_type": "markdown",
   "id": "f7a7a37f",
   "metadata": {
    "deletable": false,
    "editable": false,
    "nbgrader": {
     "cell_type": "markdown",
     "checksum": "d8422e71a9d99084096779c8fb9f0251",
     "grade": false,
     "grade_id": "math-complex-q4",
     "locked": true,
     "schema_version": 3,
     "solution": false
    }
   },
   "source": [
    "**d)** Python, and also numpy, support calculations with complex numbers. Consult the documentation to find out details. Notice that $i$ is substituted by $j$ in Python."
   ]
  },
  {
   "cell_type": "code",
   "execution_count": null,
   "id": "c087eb26",
   "metadata": {
    "deletable": false,
    "nbgrader": {
     "cell_type": "code",
     "checksum": "fadcfb7442f81a7162787301ee296859",
     "grade": true,
     "grade_id": "math-complex-a4",
     "locked": false,
     "points": 0,
     "schema_version": 3,
     "solution": true
    },
    "solution": "hidden"
   },
   "outputs": [],
   "source": [
    "# YOUR CODE HERE"
   ]
  },
  {
   "cell_type": "markdown",
   "id": "fc85687b",
   "metadata": {
    "deletable": false,
    "editable": false,
    "nbgrader": {
     "cell_type": "markdown",
     "checksum": "9e3fa5e995749a01a489224bd1823d36",
     "grade": false,
     "grade_id": "morph-erode",
     "locked": true,
     "schema_version": 3,
     "solution": false
    }
   },
   "source": [
    "## Assignment 1: Properties of morphological operators [5 Points]\n",
    "\n",
    "This exercise will elaborate on the basic morphological operators of *erosion* and *dilation* (cf. CV-05 slides 4-14)."
   ]
  },
  {
   "cell_type": "markdown",
   "id": "98466a89",
   "metadata": {
    "deletable": false,
    "editable": false,
    "nbgrader": {
     "cell_type": "markdown",
     "checksum": "56b62744dc81f35a8246833258c0547f",
     "grade": false,
     "grade_id": "morph-erode-q2",
     "locked": true,
     "schema_version": 3,
     "solution": false
    }
   },
   "source": [
    "### a) Duality\n",
    "\n",
    "Proof that *erosion* and *dilation* are *dual* operators, i.e.\n",
    "\n",
    "$$ g^{\\ast}\\oplus S = (g\\ominus S)^{\\ast}\\qquad\\text{and}\\qquad\n",
    "g^{\\ast}\\ominus S = (g\\oplus S)^{\\ast}$$\n",
    "\n",
    "here $g^{\\ast}$ denotes the inverted binary image, i.e. $g^{\\ast}(x,y) = 1 - g(x,y) = \\neg g(x,y)$, i.e. 1-pixel become 0 and 0-pixel become 1."
   ]
  },
  {
   "cell_type": "markdown",
   "id": "089962eb",
   "metadata": {
    "deletable": false,
    "nbgrader": {
     "cell_type": "markdown",
     "checksum": "3044c284df7bf7863c841bb78d92d059",
     "grade": true,
     "grade_id": "morph-erode-a2",
     "locked": false,
     "points": 1,
     "schema_version": 3,
     "solution": true
    },
    "solution": true
   },
   "source": [
    "YOUR ANSWER HERE"
   ]
  },
  {
   "cell_type": "markdown",
   "id": "e2d19194",
   "metadata": {
    "deletable": false,
    "editable": false,
    "nbgrader": {
     "cell_type": "markdown",
     "checksum": "fafbfe54dbe8cd3d9640620778bf43e9",
     "grade": false,
     "grade_id": "morph-erode-q3",
     "locked": true,
     "schema_version": 3,
     "solution": false
    }
   },
   "source": [
    "### b) Superposition\n",
    "\n",
    "As *erosion* and *dilation* have been introduced for binary images, the notion of *linearity* is not really appropriate here. However, some weaker version, called *superposition* can be defined: instead of forming linear combination, one takes the logical disjunction:\n",
    "\n",
    "$$(g_1\\lor g_2)(x,y) := g_1(x,y)\\lor g_2(x,y)$$\n",
    "\n",
    "Check for both operations if *erosion* and *dilation* are \"compatible\" with superposition, i.e. if first *eroding* (or *dilating*) two images and superposing the result is the same as first superposing the images and then *eroding* (or *dilating*) the result."
   ]
  },
  {
   "cell_type": "markdown",
   "id": "0a7bf9e8",
   "metadata": {
    "deletable": false,
    "nbgrader": {
     "cell_type": "markdown",
     "checksum": "6d85d53bbf5372f62a089369733ad0d0",
     "grade": true,
     "grade_id": "morph-erode-a3",
     "locked": false,
     "points": 2,
     "schema_version": 3,
     "solution": true
    },
    "solution": true
   },
   "source": [
    "YOUR ANSWER HERE"
   ]
  },
  {
   "cell_type": "code",
   "execution_count": null,
   "id": "bdb9bed4",
   "metadata": {
    "deletable": false,
    "nbgrader": {
     "cell_type": "code",
     "checksum": "4fd68a22dbb70347e4309a69363fdf93",
     "grade": true,
     "grade_id": "cell-ce394efa205416156",
     "locked": false,
     "points": 0,
     "schema_version": 3,
     "solution": true
    }
   },
   "outputs": [],
   "source": [
    "# YOUR CODE HERE"
   ]
  },
  {
   "cell_type": "markdown",
   "id": "efbd403f",
   "metadata": {
    "deletable": false,
    "editable": false,
    "nbgrader": {
     "cell_type": "markdown",
     "checksum": "3d1dabc64b49da6e53cf5106e52063d7",
     "grade": false,
     "grade_id": "morph-erode-q4",
     "locked": true,
     "schema_version": 3,
     "solution": false
    }
   },
   "source": [
    "### c) Chaining\n",
    "\n",
    "Show that *dilation* and *erosion* have the following properties: given two structering elements $S_1$ and $S_2$, it holds\n",
    "\n",
    "\\begin{align}\n",
    "  (g\\oplus S_1)\\oplus S_2 & & = & g\\oplus (S_1\\oplus S_2) && = (g\\oplus S_2)\\oplus S_1 \\\\\n",
    "  (g\\ominus S_1)\\ominus S_2 & & = & g\\ominus (S_1\\ominus S_2) && = (g\\ominus S_2)\\ominus S_1 \\\\  \n",
    "\\end{align}\n",
    "\n",
    "What are the practical consequences?"
   ]
  },
  {
   "cell_type": "markdown",
   "id": "426c5bb5",
   "metadata": {
    "deletable": false,
    "nbgrader": {
     "cell_type": "markdown",
     "checksum": "ba31be8d5bf8fd37af80dda340c53dc5",
     "grade": true,
     "grade_id": "morph-erode-a4",
     "locked": false,
     "points": 2,
     "schema_version": 3,
     "solution": true
    },
    "solution": true
   },
   "source": [
    "YOUR ANSWER HERE"
   ]
  },
  {
   "cell_type": "markdown",
   "id": "70267a16",
   "metadata": {
    "deletable": false,
    "editable": false,
    "nbgrader": {
     "cell_type": "markdown",
     "checksum": "2401e44a8e28529ac320a179943423a2",
     "grade": false,
     "grade_id": "morph-morphing",
     "locked": true,
     "schema_version": 3,
     "solution": false
    }
   },
   "source": [
    "## Assignment 2: Application [5 Points]\n"
   ]
  },
  {
   "cell_type": "markdown",
   "id": "10d389fd",
   "metadata": {
    "deletable": false,
    "editable": false,
    "nbgrader": {
     "cell_type": "markdown",
     "checksum": "bfa7bab246838360affdcc2beffad7fc",
     "grade": false,
     "grade_id": "morph-morphing-q1",
     "locked": true,
     "schema_version": 3,
     "solution": false
    }
   },
   "source": [
    "### a) Boundary extraction\n",
    "\n",
    "Extract the boundary of a shape using opening or closing. You may use `binary_dilation` or `binary_erosion` from `scipy.ndimage.morphology`. Can you achieve a thicker boundary?"
   ]
  },
  {
   "cell_type": "code",
   "execution_count": 4,
   "id": "8ed2f8bc",
   "metadata": {
    "deletable": false,
    "nbgrader": {
     "cell_type": "code",
     "checksum": "49c0fa486a76483abfbe490a42f13030",
     "grade": true,
     "grade_id": "morph-morphing-a1",
     "locked": false,
     "points": 1,
     "schema_version": 3,
     "solution": true
    }
   },
   "outputs": [
    {
     "data": {
      "image/png": "[encoded data removed]",
      "text/plain": [
       "<Figure size 720x720 with 1 Axes>"
      ]
     },
     "metadata": {
      "needs_background": "light"
     },
     "output_type": "display_data"
    }
   ],
   "source": [
    "%matplotlib inline\n",
    "import numpy as np\n",
    "import matplotlib.pyplot as plt\n",
    "plt.rcParams['image.cmap'] = 'gray'\n",
    "import scipy.ndimage.morphology as morph\n",
    "from imageio import imread\n",
    "\n",
    "def my_boundary(img):\n",
    "    \"\"\"\n",
    "    Compute boundary of binary image.\n",
    "\n",
    "    Parameters\n",
    "    ----------\n",
    "    img : ndarray of bools\n",
    "        A binary image.\n",
    "        \n",
    "    Returns\n",
    "    -------\n",
    "    boundary : ndarray of bools\n",
    "        The boundary as a binary image.\n",
    "    \"\"\"\n",
    "    eroded_img = morph.binary_erosion(img)\n",
    "    boundary = np.logical_xor(img, eroded_img)\n",
    "    thicker_boundary = np.logical_xor(img, morph.binary_erosion(eroded_img))\n",
    "    return thicker_boundary\n",
    "\n",
    "img = imread(\"images/engelstrompete.png\") > 0\n",
    "plt.figure(figsize=(10,10))\n",
    "plt.gray()\n",
    "plt.imshow(my_boundary(img))\n",
    "plt.show()"
   ]
  },
  {
   "cell_type": "markdown",
   "id": "cecbfbd2",
   "metadata": {
    "deletable": false,
    "editable": false,
    "nbgrader": {
     "cell_type": "markdown",
     "checksum": "679fc902522a04f1b23703c9aba24f36",
     "grade": false,
     "grade_id": "morph-morphing-q2",
     "locked": true,
     "schema_version": 3,
     "solution": false
    }
   },
   "source": [
    "### b)  Distance transform\n",
    "\n",
    "Implement distance transform according to the ideas of (CV-05 slides 34ff).  Discuss the effect of different structuring elements."
   ]
  },
  {
   "cell_type": "code",
   "execution_count": 5,
   "id": "1922aa99",
   "metadata": {
    "deletable": false,
    "nbgrader": {
     "cell_type": "code",
     "checksum": "e3a0f0a84b46696bd343317d78a797af",
     "grade": true,
     "grade_id": "morph-morphing-a2",
     "locked": false,
     "points": 2,
     "schema_version": 3,
     "solution": true
    }
   },
   "outputs": [
    {
     "data": {
      "image/png": "[encoded data removed]",
      "text/plain": [
       "<Figure size 720x720 with 1 Axes>"
      ]
     },
     "metadata": {
      "needs_background": "light"
     },
     "output_type": "display_data"
    }
   ],
   "source": [
    "%matplotlib inline\n",
    "import numpy as np\n",
    "import matplotlib.pyplot as plt\n",
    "from scipy.ndimage import morphology as morph, generate_binary_structure\n",
    "from imageio import imread\n",
    "\n",
    "def my_distance_transform(img):\n",
    "    \"\"\"Distance transform of binary image.\n",
    "\n",
    "    Args:\n",
    "    img (ndarray of bools): A binary image.\n",
    "        \n",
    "    Returns:\n",
    "    dt (ndarray of ints): The distance transform of the input image.\n",
    "    \"\"\"\n",
    "    \n",
    "    dt = np.zeros(img.shape,np.int32)\n",
    "    i = 0\n",
    "    \n",
    "    while True:\n",
    "        eroded_img = morph.binary_erosion(img, iterations = i+1)\n",
    "        previous_eroded_img = morph.binary_erosion(img, iterations = i)\n",
    "        boundary = np.logical_xor(previous_eroded_img, eroded_img)\n",
    "        boundary = boundary.astype(np.int32)\n",
    "        boundary_distance = boundary * i\n",
    "        dt += boundary_distance\n",
    "        if(np.all(eroded_img == 0)):\n",
    "            break\n",
    "        i += 1\n",
    "\n",
    "    return dt\n",
    "\n",
    "\n",
    "img = imread(\"images/engelstrompete.png\") > 0\n",
    "plt.figure(figsize=(10,10))\n",
    "plt.imshow(my_distance_transform(img) + 50 * img)\n",
    "plt.show()"
   ]
  },
  {
   "cell_type": "markdown",
   "id": "e7a7de79",
   "metadata": {
    "deletable": false,
    "nbgrader": {
     "cell_type": "markdown",
     "checksum": "79e5553d47e11f7e09b542688535bd7b",
     "grade": true,
     "grade_id": "cell-4f0056b6c961ef35",
     "locked": false,
     "points": 0,
     "schema_version": 3,
     "solution": true
    }
   },
   "source": [
    "The structuring element affects the distance transform because it defines how much we erode in every iteration. The bigger the structure, the more we erode in each iteration and therefore the bigger the stepsize in which we compute the distances.\\\n",
    "Additionally, the shape of the structure and its anchor influence the distance transform. An uneven shape or an anchor that is not in the centre of the structure skew erosion and with it also the distance computation.\n",
    "\n",
    "Question: I tried several structures in the calls of morph.binary_erosion() but wasn't able to generate the same result. Instead setting the structure argument (e.g. to np.ones((3,3)) ) in the function call leads to quite bad results. Why is that and what is the default structure (documentation states If no structuring element is provided, an element is generated with a square connectivity equal to one.)?"
   ]
  },
  {
   "cell_type": "markdown",
   "id": "f4779104",
   "metadata": {
    "deletable": false,
    "editable": false,
    "nbgrader": {
     "cell_type": "markdown",
     "checksum": "473b6eb06ffe29ca142739616ca9f3c2",
     "grade": false,
     "grade_id": "morph-morphing-q3",
     "locked": true,
     "schema_version": 3,
     "solution": false
    }
   },
   "source": [
    "### c) Morphing\n",
    "\n",
    "Write a function `my_morph` that implements morphing according to (CV-05 slide 41). You may use your function `my_distance_transform` from part b), or the function `distance_transform_edt` from `scipy.ndimage.morphology`."
   ]
  },
  {
   "cell_type": "code",
   "execution_count": 6,
   "id": "09d3fd13",
   "metadata": {
    "deletable": false,
    "nbgrader": {
     "cell_type": "code",
     "checksum": "2ee80d5d5d2f907df6a66dc5e24a0e8a",
     "grade": true,
     "grade_id": "morph-morphing-a3",
     "locked": false,
     "points": 2,
     "schema_version": 3,
     "solution": true
    }
   },
   "outputs": [
    {
     "data": {
      "image/png": "[encoded data removed]",
      "text/plain": [
       "<Figure size 720x720 with 6 Axes>"
      ]
     },
     "metadata": {
      "needs_background": "light"
     },
     "output_type": "display_data"
    }
   ],
   "source": [
    "%matplotlib inline\n",
    "import numpy as np\n",
    "import matplotlib.pyplot as plt\n",
    "import scipy.ndimage.morphology as morph\n",
    "from imageio import imread\n",
    "\n",
    "\n",
    "def my_morph(A,B,ratio):\n",
    "    \"\"\"Morphing from binary image A to image B.\n",
    "\n",
    "    Args:\n",
    "        A (ndarray of bools): A binary image (start).\n",
    "        B (ndarray of bools): A binary image (target), same shape as A.\n",
    "        ratio (float from 0.0 to 1.0): The ratio of image A and image B.\n",
    "            0.0=only image A, 1.0=only image B.\n",
    "        \n",
    "    Returns:\n",
    "        morph (ndarray of bools): A binary intermediate image between A and B.\n",
    "        \n",
    "    \"\"\"\n",
    "\n",
    "    result = np.zeros(A.shape, bool)\n",
    "    \n",
    "    inv_A = np.invert(A)\n",
    "    inv_B = np.invert(B)\n",
    "    \n",
    "    d_A = my_distance_transform(A)\n",
    "    d_B = my_distance_transform(B)\n",
    "    \n",
    "    d_inv_A = my_distance_transform(inv_A)\n",
    "    d_inv_B = my_distance_transform(inv_B)\n",
    "    \n",
    "    gen_D_A = d_A - d_inv_A\n",
    "    gen_D_B = d_B - d_inv_B\n",
    "    \n",
    "    # normalizing general distance transforms to range 0-255\n",
    "    gen_D_A -= gen_D_A.min()\n",
    "    gen_D_A = gen_D_A/(gen_D_A.max()/255)\n",
    "    gen_D_B -= gen_D_B.min()\n",
    "    gen_D_B = gen_D_B/(gen_D_B.max()/255)\n",
    "    \n",
    "    result = ratio * gen_D_B + (1-ratio) * gen_D_A\n",
    "    \n",
    "    # Question: How do we determine a good threshold for binarization?\n",
    "    return result > 95\n",
    "\n",
    "img1 = imread(\"images/kreis.png\") > 0\n",
    "img2 = imread(\"images/engelstrompete.png\") > 0\n",
    "\n",
    "\n",
    "plt.figure(figsize=(10,10))\n",
    "plt.gray()\n",
    "for i, ratio in enumerate(np.linspace(0, 1, 6), 1):\n",
    "    plt.subplot(2, 3, i)\n",
    "    plt.imshow(my_morph(img1, img2, ratio))\n",
    "    plt.axis('off')\n",
    "plt.show()"
   ]
  },
  {
   "cell_type": "code",
   "execution_count": null,
   "id": "8ef1c1b4",
   "metadata": {
    "deletable": false,
    "editable": false,
    "nbgrader": {
     "cell_type": "code",
     "checksum": "2b2e9c03c903e2246d45b6e73a1d8c27",
     "grade": true,
     "grade_id": "morph-morphing-a3b",
     "locked": true,
     "points": 0,
     "schema_version": 3,
     "solution": false
    }
   },
   "outputs": [],
   "source": [
    "# If you want to see your morph as an animation, run this cell. \n",
    "# Close the output (press the blue \"Stop interaction\" button) once you are done!\n",
    "\n",
    "# Due to some matplotlib problem you may have to restart your kernel!\n",
    "%matplotlib notebook\n",
    "import matplotlib.animation as animation\n",
    "fig = plt.figure()\n",
    "\n",
    "ims = []\n",
    "for i, ratio in enumerate(np.linspace(0, 1, 24), 1):\n",
    "    plt.axis('off')\n",
    "    im = plt.imshow(my_morph(img1, img2, ratio), cmap='gray', animated=True)\n",
    "    ims.append([im])  \n",
    "    \n",
    "ani = animation.ArtistAnimation(fig, ims + list(reversed(ims)), interval=100, blit=True)\n",
    "\n",
    "fig.show()"
   ]
  },
  {
   "cell_type": "markdown",
   "id": "da84f912",
   "metadata": {
    "deletable": false,
    "editable": false,
    "nbgrader": {
     "cell_type": "markdown",
     "checksum": "7a52c9fca4987c0c07ec113e42a5b0f8",
     "grade": false,
     "grade_id": "morph-skeleton",
     "locked": true,
     "schema_version": 3,
     "solution": false
    }
   },
   "source": [
    "## Assignment 3: Implementation: Skeletonization [5 Points]"
   ]
  },
  {
   "cell_type": "markdown",
   "id": "c144630f",
   "metadata": {
    "deletable": false,
    "editable": false,
    "nbgrader": {
     "cell_type": "markdown",
     "checksum": "795c2b7e48f0a22ee8966182df47805d",
     "grade": false,
     "grade_id": "morph-skeleton-q1",
     "locked": true,
     "schema_version": 3,
     "solution": false
    }
   },
   "source": [
    "### a) Skeletonization with hit-or-miss\n",
    "\n",
    "Explain in your own words, how the hit-or-miss operator can be used for skeletonization (cf CV-05 slide 49).  "
   ]
  },
  {
   "cell_type": "markdown",
   "id": "f1b6d15e",
   "metadata": {
    "deletable": false,
    "nbgrader": {
     "cell_type": "markdown",
     "checksum": "d28e31216b9e00c07579929c1627848f",
     "grade": true,
     "grade_id": "morph-skeleton-a1",
     "locked": false,
     "points": 1,
     "schema_version": 3,
     "solution": true
    },
    "solution": true
   },
   "source": [
    "YOUR ANSWER HERE"
   ]
  },
  {
   "cell_type": "markdown",
   "id": "97c95667",
   "metadata": {
    "deletable": false,
    "editable": false,
    "nbgrader": {
     "cell_type": "markdown",
     "checksum": "efdd571c79fb933b4d6ec5024dcd26eb",
     "grade": false,
     "grade_id": "morph-skeleton-q2",
     "locked": true,
     "schema_version": 3,
     "solution": false
    }
   },
   "source": [
    "### b) Implementation of skeletonization\n",
    "\n",
    "Now use this method to implement your own skeletonization function. It is ok to use\n",
    "`scipy.ndimage.morphology.binary_hit_or_miss` here (but of course *not* `skimage.morphology.skeletonize` or similar functions). Compare your result with (CV-05 slide 50). Note that computing the skeleton using this method may take some time ..."
   ]
  },
  {
   "cell_type": "code",
   "execution_count": null,
   "id": "d54b8aa1",
   "metadata": {
    "deletable": false,
    "nbgrader": {
     "cell_type": "code",
     "checksum": "7b710d69edb2fe043ebeb531a30621e3",
     "grade": true,
     "grade_id": "morph-skeleton-a2",
     "locked": false,
     "points": 4,
     "schema_version": 3,
     "solution": true
    }
   },
   "outputs": [],
   "source": [
    "%matplotlib inline\n",
    "import numpy as np\n",
    "import matplotlib.pyplot as plt\n",
    "import scipy.ndimage.morphology as morph\n",
    "from imageio import imread\n",
    "\n",
    "def my_skeletonize(img):\n",
    "    \"\"\"\n",
    "    Compute the skeloton of a binary image using hit_or_miss operator.\n",
    "    \n",
    "    Parameters\n",
    "    ----------\n",
    "    img : ndarray of bools\n",
    "        Binary image to be skeletonized.\n",
    "    \n",
    "    Returns\n",
    "    -------\n",
    "    skeleton : ndarray of bools\n",
    "        The skeleton of the input image.\n",
    "    \"\"\"\n",
    "    # Question: In the lecture slides it says: 'Iteratively remove all pixels from the distance transform image which are not ridges.'\n",
    "    #           But here we do the opposite, removing the pixels that are ridges, correct?\n",
    "    \n",
    "    # we compute the (non-general) distance transform of the image\n",
    "    dist_trans = my_distance_transform(img)\n",
    "    \n",
    "    # we define the structuring elements that are able to identify pixels that lay on the ridges when used in the hit-or-miss operation\n",
    "    S_l_hit = [[0,0,1], [0,1,1], [0,0,1]]\n",
    "    S_l_miss = [[1,0,0], [1,0,0], [1,0,0]]\n",
    "    S_r_hit = [[1,0,0], [1,1,0], [1,0,0]]\n",
    "    S_r_miss = [[0,0,1], [0,1,1], [0,0,1]]\n",
    "    S_t_hit = [[0,0,0], [0,1,0], [1,1,1]]\n",
    "    S_t_miss = [[1,1,1], [0,0,0], [0,0,0]]\n",
    "    S_b_hit = [[1,1,1], [0,1,0], [0,0,0]]\n",
    "    S_b_miss = [[0,0,0], [0,0,0], [1,1,1]]\n",
    "    S_lb_hit = [[0,1,1], [0,1,1], [0,0,0]]\n",
    "    S_lb_miss = [[0,0,0], [1,0,0], [1,1,0]]\n",
    "    S_lt_hit = [[0,0,0], [0,1,1], [0,1,1]]\n",
    "    S_lt_miss = [[1,1,0], [1,0,0], [0,0,0]]\n",
    "    S_rb_hit = [[1,1,0], [1,1,0], [0,0,0]]\n",
    "    S_rb_miss = [[0,0,0], [0,0,1], [0,1,1]]\n",
    "    S_rt_hit = [[0,0,0], [1,1,0], [1,1,0]]\n",
    "    S_rt_miss = [[0,1,1], [0,0,1], [0,0,0]]\n",
    "    \n",
    "    # then we iteratively perform the hit-or-miss operation with the structures defined above\n",
    "    # after each hit-or-miss operation we delete the identified pixels from our distance transform\n",
    "    # we iterate until there are no more pixels to be identified, i.e. no pixels were deleted from our distance-transform\n",
    "    current_dt = dist_trans\n",
    "    latest_dt = dist_trans\n",
    "    current_img = img\n",
    "    i = 0\n",
    "    while True:\n",
    "        latest_dt = current_dt\n",
    "        l_pixels = morph.binary_hit_or_miss(current_img, S_l_hit, S_l_miss)\n",
    "        current_dt = current_dt ^ l_pixels\n",
    "        current_img = current_img ^ l_pixels\n",
    "        r_pixels = morph.binary_hit_or_miss(current_img, S_r_hit, S_r_miss)\n",
    "        current_dt = current_dt ^ r_pixels\n",
    "        current_img = current_img ^ l_pixels\n",
    "        t_pixels = morph.binary_hit_or_miss(current_img, S_t_hit, S_t_miss)\n",
    "        current_dt = current_dt ^ t_pixels\n",
    "        current_img = current_img ^ l_pixels\n",
    "        b_pixels = morph.binary_hit_or_miss(current_img, S_b_hit, S_b_miss)\n",
    "        current_dt = current_dt ^ b_pixels\n",
    "        current_img = current_img ^ l_pixels\n",
    "        lb_pixels = morph.binary_hit_or_miss(current_img, S_lb_hit, S_lb_miss)\n",
    "        current_dt = current_dt ^ lb_pixels\n",
    "        current_img = current_img ^ l_pixels\n",
    "        lt_pixels = morph.binary_hit_or_miss(current_img, S_lt_hit, S_lt_miss)\n",
    "        current_dt = current_dt ^ lt_pixels\n",
    "        current_img = current_img ^ l_pixels\n",
    "        rb_pixels = morph.binary_hit_or_miss(current_img, S_rb_hit, S_rb_miss)\n",
    "        current_dt = current_dt ^ rb_pixels\n",
    "        current_img = current_img ^ l_pixels\n",
    "        rt_pixels = morph.binary_hit_or_miss(current_img, S_rt_hit, S_rt_miss)\n",
    "        current_dt = current_dt ^ rt_pixels\n",
    "        current_img = current_img ^ l_pixels\n",
    "        i += 1\n",
    "        if((current_dt == latest_dt).all()):\n",
    "            return current_dt\n",
    "\n",
    "\n",
    "img = imread(\"images/engelstrompete.png\") > 0\n",
    "skel = my_skeletonize(img)\n",
    "result = morph.distance_transform_cdt(img, metric='taxicab') + (50 * img)\n",
    "result[morph.binary_dilation(skel)] = 0\n",
    "plt.figure(figsize=(10,10))\n",
    "plt.gray()\n",
    "plt.imshow(result)\n",
    "plt.show()"
   ]
  },
  {
   "cell_type": "markdown",
   "id": "c9827cce",
   "metadata": {
    "deletable": false,
    "editable": false,
    "nbgrader": {
     "cell_type": "markdown",
     "checksum": "ea1f8a72f09a6f9a63f765a5d0cf3d72",
     "grade": false,
     "grade_id": "cell-60d8cfa910b52231",
     "locked": true,
     "schema_version": 3,
     "solution": false
    }
   },
   "source": [
    "## Assignment 4: Custom Structuring Element [5 points]\n",
    "\n",
    "Landsat 7 is a satelite mission for acquisition of satellite imagery of Earth. Unfortunately the Scan Line Corrector failed, resulting in black stripes on the aquired images. More information: https://landsat.usgs.gov/slc-products-background\n"
   ]
  },
  {
   "cell_type": "markdown",
   "id": "471d193a",
   "metadata": {
    "deletable": false,
    "editable": false,
    "nbgrader": {
     "cell_type": "markdown",
     "checksum": "e6fb1150d73f71e43800ff88b15b16c9",
     "grade": false,
     "grade_id": "cell-ca1552e7bddf7b74",
     "locked": true,
     "schema_version": 3,
     "solution": false
    }
   },
   "source": [
    "### a) A first fix\n",
    "\n",
    "A rather crude fix is to apply a custom structuring element for dilation and erosion (see CV-05, 24ff). Complement the code below (in part (b)) in the following way:\n",
    "* Rotate the image such that the gaps are horizontal.\n",
    "* Dilate the rotated image with a vertical structuring element. I.e. take the maximum of an area of size $7 \\times1$ and assign it to the center pixel. Repeat for all pixels.\n",
    "* Erode the dilated image.\n",
    "* Rotate the result back.\n",
    "\n",
    "Remark: this exercise applies morphological operator to color images. This extends the idea of generalizing morphological operators to gray value images (CV-05, slide 51).  "
   ]
  },
  {
   "cell_type": "markdown",
   "id": "e807b157",
   "metadata": {
    "deletable": false,
    "editable": false,
    "nbgrader": {
     "cell_type": "markdown",
     "checksum": "edba9a279b000bbcfc08ac5d8bf5f3ff",
     "grade": false,
     "grade_id": "cell-7fbbc56de3c77426",
     "locked": true,
     "schema_version": 3,
     "solution": false
    }
   },
   "source": [
    "### b) Improving the solution\n",
    "You may get better results by thresholding and applying the morphological operations only to pixels below a threshold, i.e. gap pixels. Compliment your solution from a). "
   ]
  },
  {
   "cell_type": "code",
   "execution_count": null,
   "id": "f149538c",
   "metadata": {
    "deletable": false,
    "nbgrader": {
     "cell_type": "code",
     "checksum": "9dbc5d01463b10d63ad9f6640cb6ef6e",
     "grade": true,
     "grade_id": "cell-a419214d632a6cf6",
     "locked": false,
     "points": 5,
     "schema_version": 3,
     "solution": true
    }
   },
   "outputs": [],
   "source": [
    "%matplotlib inline\n",
    "import numpy as np\n",
    "import matplotlib.pyplot as plt\n",
    "import scipy.ndimage.morphology as morph\n",
    "import scipy.ndimage as ndimg\n",
    "from skimage import color\n",
    "from skimage.transform import rescale as rescale\n",
    "from imageio import imread\n",
    "\n",
    "\n",
    "angle = 15\n",
    "thresh = .3\n",
    "struc_elem = np.ones((5,1), dtype=bool)\n",
    "\n",
    "img = imread(\"images/landsat_stack2.png\")\n",
    "img2 = img.copy()\n",
    "img3 = img.copy()\n",
    "\n",
    "# YOUR CODE HERE\n",
    "img = (img - np.min(img))/np.ptp(img)\n",
    "img3 = (img3 - np.min(img3))/np.ptp(img3)\n",
    "\n",
    "\n",
    "plt.figure(figsize=(15,45))\n",
    "plt.subplot(3,1,1); plt.imshow(img); plt.axis('off')\n",
    "plt.subplot(3,1,2); plt.imshow(img3); plt.axis('off')\n",
    "plt.subplot(3,1,3); plt.imshow(thresh_img); plt.axis('off')\n",
    "plt.imshow(thresh_img)\n",
    "plt.show()\n"
   ]
  },
  {
   "cell_type": "markdown",
   "id": "2574c175",
   "metadata": {
    "deletable": false,
    "editable": false,
    "nbgrader": {
     "cell_type": "markdown",
     "checksum": "61d14ea1beb24563386881123ab47f4e",
     "grade": false,
     "grade_id": "cell-895c6b10e93a0b17",
     "locked": true,
     "schema_version": 3,
     "solution": false
    }
   },
   "source": [
    "### c) Bonus\n",
    "Can you think of (and implement) other ways to add the missing data? \n"
   ]
  },
  {
   "cell_type": "markdown",
   "id": "dc23828b",
   "metadata": {
    "deletable": false,
    "nbgrader": {
     "cell_type": "markdown",
     "checksum": "e1443d0180f6c16e1fd3d8f65d47d8f9",
     "grade": true,
     "grade_id": "cell-5b15415ce81bdce1",
     "locked": false,
     "points": 0,
     "schema_version": 3,
     "solution": true
    }
   },
   "source": [
    "YOUR ANSWER HERE"
   ]
  }
 ],
 "metadata": {
  "kernelspec": {
   "display_name": "Python 3 (ipykernel)",
   "language": "python",
   "name": "python3"
  },
  "language_info": {
   "codemirror_mode": {
    "name": "ipython",
    "version": 3
   },
   "file_extension": ".py",
   "mimetype": "text/x-python",
   "name": "python",
   "nbconvert_exporter": "python",
   "pygments_lexer": "ipython3",
   "version": "3.9.7"
  }
 },
 "nbformat": 4,
 "nbformat_minor": 5
}
